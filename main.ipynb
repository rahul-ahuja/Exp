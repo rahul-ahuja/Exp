{
 "cells": [
  {
   "cell_type": "code",
   "execution_count": 1,
   "metadata": {
    "collapsed": true
   },
   "outputs": [],
   "source": [
    "import os.path\n",
    "import tensorflow as tf\n",
    "import helper\n",
    "import warnings\n",
    "from distutils.version import LooseVersion\n",
    "import project_tests as tests"
   ]
  },
  {
   "cell_type": "code",
   "execution_count": 2,
   "metadata": {},
   "outputs": [
    {
     "name": "stdout",
     "output_type": "stream",
     "text": [
      "TensorFlow Version: 1.0.1\n",
      "Default GPU Device: /gpu:0\n"
     ]
    }
   ],
   "source": [
    "# Check TensorFlow Version\n",
    "assert LooseVersion(tf.__version__) >= LooseVersion('1.0'), 'Please use TensorFlow version 1.0 or newer.  You are using {}'.format(tf.__version__)\n",
    "print('TensorFlow Version: {}'.format(tf.__version__))\n",
    "\n",
    "# Check for a GPU\n",
    "if not tf.test.gpu_device_name():\n",
    "    warnings.warn('No GPU found. Please use a GPU to train your neural network.')\n",
    "else:\n",
    "    print('Default GPU Device: {}'.format(tf.test.gpu_device_name()))"
   ]
  },
  {
   "cell_type": "code",
   "execution_count": null,
   "metadata": {
    "collapsed": true
   },
   "outputs": [],
   "source": []
  },
  {
   "cell_type": "code",
   "execution_count": 3,
   "metadata": {},
   "outputs": [
    {
     "name": "stdout",
     "output_type": "stream",
     "text": [
      "Tests Passed\n"
     ]
    }
   ],
   "source": [
    "def load_vgg(sess, vgg_path):\n",
    "    \"\"\"\n",
    "    Load Pretrained VGG Model into TensorFlow.\n",
    "    :param sess: TensorFlow Session\n",
    "    :param vgg_path: Path to vgg folder, containing \"variables/\" and \"saved_model.pb\"\n",
    "    :return: Tuple of Tensors from VGG model (image_input, keep_prob, layer3_out, layer4_out, layer7_out)\n",
    "    \"\"\"\n",
    "    # TODO: Implement function\n",
    "    #   Use tf.saved_model.loader.load to load the model and weights\n",
    "    vgg_tag = 'vgg16'\n",
    "    vgg_input_tensor_name = 'image_input:0'\n",
    "    vgg_keep_prob_tensor_name = 'keep_prob:0'\n",
    "    vgg_layer3_out_tensor_name = 'layer3_out:0'\n",
    "    vgg_layer4_out_tensor_name = 'layer4_out:0'\n",
    "    vgg_layer7_out_tensor_name = 'layer7_out:0'\n",
    "\n",
    "    # Load the vgg model from thr given path\n",
    "    tf.saved_model.loader.load(sess, [vgg_tag],vgg_path)\n",
    "\n",
    "    # extract the vgg layers\n",
    "    vgg_input = tf.get_default_graph().get_tensor_by_name(vgg_input_tensor_name)\n",
    "    keep_prob = tf.get_default_graph().get_tensor_by_name(vgg_keep_prob_tensor_name)\n",
    "    layer3_out = tf.get_default_graph().get_tensor_by_name(vgg_layer3_out_tensor_name)\n",
    "    layer4_out = tf.get_default_graph().get_tensor_by_name(vgg_layer4_out_tensor_name)\n",
    "    layer7_out = tf.get_default_graph().get_tensor_by_name(vgg_layer7_out_tensor_name)\n",
    "\n",
    "    return vgg_input, keep_prob, layer3_out, layer4_out, layer7_out\n",
    "\n",
    "tests.test_load_vgg(load_vgg, tf)"
   ]
  },
  {
   "cell_type": "code",
   "execution_count": 4,
   "metadata": {},
   "outputs": [
    {
     "name": "stdout",
     "output_type": "stream",
     "text": [
      "Tests Passed\n"
     ]
    }
   ],
   "source": [
    "def layers(vgg_layer3_out, vgg_layer4_out, vgg_layer7_out, num_classes):\n",
    "    \"\"\"\n",
    "    Create the layers for a fully convolutional network.  Build skip-layers using the vgg layers.\n",
    "    :param vgg_layer7_out: TF Tensor for VGG Layer 3 output\n",
    "    :param vgg_layer4_out: TF Tensor for VGG Layer 4 output\n",
    "    :param vgg_layer3_out: TF Tensor for VGG Layer 7 output\n",
    "    :param num_classes: Number of classes to classify\n",
    "    :return: The Tensor for the last layer of output\n",
    "    \"\"\"\n",
    "    # TODO: Implement function\n",
    "    #return None  \n",
    "    #resampling vgg_layer7 from 5x18x4096 to 5x18x2\n",
    "    def conv1x1(x):\n",
    "        return tf.layers.conv2d(x, filters=num_classes, kernel_size = 1, padding='same',\n",
    "                                kernel_regularizer = tf.contrib.layers.l2_regularizer(0.001), \n",
    "                                kernel_initializer = tf.truncated_normal_initializer(stddev=0.01))\n",
    "    \n",
    "    def conv2d_transpose(x, kernel_size, strides):\n",
    "        return tf.layers.conv2d_transpose(x, filters = num_classes, kernel_size = kernel_size,\n",
    "                                          strides = strides, padding = 'same',\n",
    "                                          kernel_regularizer = tf.contrib.layers.l2_regularizer(0.001),\n",
    "                                          kernel_initializer = tf.truncated_normal_initializer(stddev=0.01))\n",
    "    \n",
    "    resampled_vgg7 = conv1x1(vgg_layer7_out)\n",
    "    \n",
    "    #upsampling vgg7 from 5x18x2 to 10x36x2\n",
    "    upsampled_vgg7 = conv2d_transpose(resampled_vgg7, 4, 2)\n",
    "    \n",
    "    #resampling vgg_layer4 from 10x36x512 to 10x36x2\n",
    "    resampled_vgg4 = conv1x1(vgg_layer4_out)\n",
    "    \n",
    "    #skip_connections \n",
    "    skip_layer = tf.add(upsampled_vgg7, resampled_vgg4)\n",
    "    \n",
    "    #upsampling skip layer from 10x36x2 to 20x72x2\n",
    "    upsampled_skip_layer = conv2d_transpose(skip_layer, 4, 2)\n",
    "    \n",
    "    #resample vgg3 from 20x72x256 to 20x72x2\n",
    "    resampled_vgg3 = conv1x1(vgg_layer3_out)\n",
    "    \n",
    "    #skip connections\n",
    "    skip_layer2 = tf.add(upsampled_skip_layer, resampled_vgg3)\n",
    "    \n",
    "    #upsample skip layer from 20x72x2 to 160x576x2\n",
    "    upsampled_skip_layer2 = conv2d_transpose(skip_layer2, 16, 8)\n",
    "    \n",
    "    return upsampled_skip_layer2\n",
    "\n",
    "    \n",
    "tests.test_layers(layers)"
   ]
  },
  {
   "cell_type": "code",
   "execution_count": 5,
   "metadata": {},
   "outputs": [
    {
     "name": "stdout",
     "output_type": "stream",
     "text": [
      "Tests Passed\n"
     ]
    }
   ],
   "source": [
    "def optimize(nn_last_layer, correct_label, learning_rate, num_classes):\n",
    "    \"\"\"\n",
    "    Build the TensorFLow loss and optimizer operations.\n",
    "    :param nn_last_layer: TF Tensor of the last layer in the neural network\n",
    "    :param correct_label: TF Placeholder for the correct label image\n",
    "    :param learning_rate: TF Placeholder for the learning rate\n",
    "    :param num_classes: Number of classes to classify\n",
    "    :return: Tuple of (logits, train_op, cross_entropy_loss)\n",
    "    \"\"\"\n",
    "    # TODO: Implement function\n",
    "    \n",
    "#    return None, None, None\n",
    "    \n",
    "    # Name logits Tensor, so that is can be loaded from disk after training\n",
    "    #logits = tf.identity(logits, name='logits')\n",
    "    \n",
    "    #the output tensor is 4D so we have to reshape it to 2D\n",
    "    #logits is now a 2D tensor where each row represents a pixel and each column a class\n",
    "    logits = tf.reshape(nn_last_layer, (-1, num_classes))\n",
    "\n",
    "#    iou, iou_op = tf.metrics.mean_iou(correct_label, prediction, num_classes)\n",
    "    # Loss and Optimizer\n",
    "#    cost = tf.reduce_mean(tf.nn.softmax_cross_entropy_with_logits(logits=logits, labels=correct_label))\n",
    "#    optimizer = tf.train.AdamOptimizer(learning_rate).minimize(cost)\n",
    "    cross_entropy_loss = tf.reduce_mean(tf.nn.softmax_cross_entropy_with_logits(logits= logits, labels= correct_label))\n",
    "    optimizer = tf.train.AdamOptimizer(learning_rate).minimize(cross_entropy_loss)\n",
    "    \n",
    "    \n",
    "    return logits, optimizer, cross_entropy_loss\n",
    "    \n",
    "tests.test_optimize(optimize)"
   ]
  },
  {
   "cell_type": "code",
   "execution_count": 6,
   "metadata": {
    "collapsed": true
   },
   "outputs": [],
   "source": [
    "def train_nn(sess, epochs, batch_size, get_batches_fn, train_op, cross_entropy_loss, input_image,\n",
    "             correct_label, keep_prob, learning_rate):\n",
    "    \"\"\"\n",
    "    Train neural network and print out the loss during training.\n",
    "    :param sess: TF Session\n",
    "    :param epochs: Number of epochs\n",
    "    :param batch_size: Batch size\n",
    "    :param get_batches_fn: Function to get batches of training data.  Call using get_batches_fn(batch_size)\n",
    "    :param train_op: TF Operation to train the neural network\n",
    "    :param cross_entropy_loss: TF Tensor for the amount of loss\n",
    "    :param input_image: TF Placeholder for input images\n",
    "    :param correct_label: TF Placeholder for label images\n",
    "    :param keep_prob: TF Placeholder for dropout keep probability\n",
    "    :param learning_rate: TF Placeholder for learning rate\n",
    "    \"\"\"\n",
    "    # TODO: Implement function\n",
    "    sess.run(tf.global_variables_initializer())\n",
    "    \n",
    "    for e in range(epochs):\n",
    "        print(\"Number of Epochs\", e)\n",
    "        for batch_image, batch_label in get_batches_fn(batch_size):\n",
    "            _ = sess.run(train_op, feed_dict = {correct_label : batch_label, input_image: batch_image, learning_rate:0.1, keep_prob:1.0})\n",
    "            loss = sess.run(cross_entropy_loss, feed_dict = {correct_label : batch_label, input_image: batch_image, learning_rate:0.1, keep_prob:1.0})\n",
    "            print(\"Loss: = {:.3f}\".format(loss))\n",
    "            #pass\n",
    "    #for epochs in epochs:\n",
    "    #    for batch_image, batch_label in get_batches_fn(batch_size):\n",
    "        #    #log, opt, cross_entropy = optimize(nn_last_layer, batch_label, learning_rate, num_classes=2)\n",
    "        #    _ , loss = sess.run(train_op, cross_entropy_loss, feed_dict = {correct_label : batch_label, input_image: batch_image, learning_rate:0.1, keep_prob:1.0} )\n",
    "    #        print(1)\n",
    "    #pass\n",
    "tests.test_train_nn(train_nn)"
   ]
  },
  {
   "cell_type": "code",
   "execution_count": null,
   "metadata": {
    "collapsed": true
   },
   "outputs": [],
   "source": []
  },
  {
   "cell_type": "code",
   "execution_count": 7,
   "metadata": {},
   "outputs": [],
   "source": [
    "def run():\n",
    "    num_classes = 2\n",
    "    image_shape = (160, 576)\n",
    "    #data_dir = './data'\n",
    "    data_dir = '/input'\n",
    "    runs_dir = './runs'\n",
    "    tests.test_for_kitti_dataset(data_dir)\n",
    "\n",
    "    # Download pretrained vgg model\n",
    "    helper.maybe_download_pretrained_vgg(data_dir)\n",
    "\n",
    "    # OPTIONAL: Train and Inference on the cityscapes dataset instead of the Kitti dataset.\n",
    "    # You'll need a GPU with at least 10 teraFLOPS to train on.\n",
    "    #  https://www.cityscapes-dataset.com/\n",
    "\n",
    "    with tf.Session() as sess:\n",
    "        sess.run(tf.global_variables_initializer())\n",
    "        # Path to vgg model\n",
    "        vgg_path = os.path.join(data_dir, 'vgg')\n",
    "        # Create function to get batches\n",
    "        get_batches_fn = helper.gen_batch_function(os.path.join(data_dir, 'data_road/training'), image_shape)\n",
    "\n",
    "        # OPTIONAL: Augment Images for better results\n",
    "        #  https://datascience.stackexchange.com/questions/5224/how-to-prepare-augment-images-for-neural-network\n",
    "\n",
    "        # TODO: Build NN using load_vgg, layers, and optimize function\n",
    "        image_input, keep_prob, vgg_layer3_out, vgg_layer4_out, vgg_layer7_out = load_vgg(sess, vgg_path)\n",
    "        upsampled_skip_layer2 = layers(vgg_layer3_out, vgg_layer4_out, vgg_layer7_out, num_classes)\n",
    "        \n",
    "        #\n",
    "        #defining placeholders\n",
    "        #input_image = tf.placeholder(tf.float32, shape = [None, None, None, None])\n",
    "        learning_rate =  tf.placeholder(tf.float32, shape=[])\n",
    "        #keep_prob = tf.placeholder(tf.float32, shape=[])\n",
    "        correct_label = tf.placeholder(tf.float32, shape = [None, None, None, num_classes])\n",
    "        \n",
    "        logits, optimizer, cross_entropy_loss = optimize(upsampled_skip_layer2, correct_label, learning_rate, num_classes)\n",
    "        \n",
    "\n",
    "        # TODO: Train NN using the train_nn function\n",
    "        train_nn(sess, 1, 1, get_batches_fn, optimizer, cross_entropy_loss, image_input,\n",
    "             correct_label, keep_prob, learning_rate)\n",
    "        \n",
    "\n",
    "        # TODO: Save inference data using helper.save_inference_samples\n",
    "        helper.save_inference_samples(runs_dir, data_dir, sess, image_shape, logits, keep_prob, image_input)\n",
    "\n",
    "        # OPTIONAL: Apply the trained model to a video\n",
    "\n",
    "\n",
    "if __name__ == '__main__':\n",
    "    run()"
   ]
  },
  {
   "cell_type": "code",
   "execution_count": null,
   "metadata": {},
   "outputs": [],
   "source": []
  },
  {
   "cell_type": "code",
   "execution_count": null,
   "metadata": {
    "collapsed": true
   },
   "outputs": [],
   "source": []
  }
 ],
 "metadata": {
  "kernelspec": {
   "display_name": "Python 3",
   "language": "python",
   "name": "python3"
  },
  "language_info": {
   "codemirror_mode": {
    "name": "ipython",
    "version": 3
   },
   "file_extension": ".py",
   "mimetype": "text/x-python",
   "name": "python",
   "nbconvert_exporter": "python",
   "pygments_lexer": "ipython3",
   "version": "3.5.3"
  }
 },
 "nbformat": 4,
 "nbformat_minor": 2
}
